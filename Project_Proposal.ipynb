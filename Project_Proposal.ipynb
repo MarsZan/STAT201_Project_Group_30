{
 "cells": [
  {
   "cell_type": "markdown",
   "id": "256a5874-b76c-4963-bc43-5e3ea067a9bc",
   "metadata": {},
   "source": [
    "# Crime Rate Analysis Before and During the pandemic in Vancouver"
   ]
  },
  {
   "cell_type": "markdown",
   "id": "6b2406c9-68f7-4268-bd82-628d2d2d47dd",
   "metadata": {},
   "source": [
    "## Introduction\n",
    "\n",
    "For our project, we will analyze the Geodash crime data provided by the Vancouver Police department to see if there was any noticeable impact of the Covid-19 pandemic on the crime rate in each neighborhood of the city. The Geodash crime data is a database offered by the Vancouver Police to help researchers, media and organizations that want to examine crime and police activity (Vancouver Police Department, 2022). This tool allows us access to datasets that include the type of crime reported to the Vancouver Police and the given report's time, date, and neighborhood. With this information, we can perform analyses to better understand the effect that Covid-19 had on crimes committed throughout the city. Similar studies have already been conducted between American cities that use statistical and data analysis to answer similar questions (Ashby, 2020; Abrams, 2021).\n",
    "\n",
    "Our project will use the mean, and standard deviation of the crime rate for each neighborhood through different time frames as parameters to understand how each neighborhood changed and is compared to one another. With the mean crime rate for each time frame, we can better compare neighborhoods regarding safety. With the standard deviation, we can see if any particular neighborhood has a broader range of reported crimes per time frame, which can be an indicator of the impact of external factors like the covid 19 pandemic."
   ]
  },
  {
   "cell_type": "markdown",
   "id": "93a3ad38-18c0-418f-b059-2f207da13602",
   "metadata": {},
   "source": [
    "## Result"
   ]
  },
  {
   "cell_type": "markdown",
   "id": "949e279c-67b8-4da8-8678-1084cd4e131e",
   "metadata": {},
   "source": [
    "#### Data Preparation\n",
    "The dataset is obtained from https://geodash.vpd.ca/opendata/# \\\n",
    "Unfortunately, VPD didn't provide their datasets a URL for direct download into JupyterHub, so we first manually downloaded and stored the dataset to GoogleDrive then generated downloadable URL from there. "
   ]
  },
  {
   "cell_type": "code",
   "execution_count": 8,
   "id": "0b7e4d2e-7c99-48e8-86d9-4654ad3cf292",
   "metadata": {},
   "outputs": [
    {
     "name": "stderr",
     "output_type": "stream",
     "text": [
      "Installing package into ‘/home/jupyter/R/x86_64-pc-linux-gnu-library/4.0’\n",
      "(as ‘lib’ is unspecified)\n",
      "\n",
      "also installing the dependency ‘patchwork’\n",
      "\n",
      "\n"
     ]
    }
   ],
   "source": [
    "install.packages(\"infer\")"
   ]
  },
  {
   "cell_type": "code",
   "execution_count": 10,
   "id": "087e57ab",
   "metadata": {},
   "outputs": [],
   "source": [
    "library(tidyverse)\n",
    "library(infer)"
   ]
  },
  {
   "cell_type": "code",
   "execution_count": 11,
   "id": "c08cc138",
   "metadata": {},
   "outputs": [],
   "source": [
    "# Here we read the data from a google drive that holds our datasets and assign a variable for each year.\n",
    "URL2017 <- \"https://drive.google.com/uc?id=11RimvDwqEXhi88RdmiHg6PUGOL8xXMW4&export=download\"\n",
    "URL2018 <- \"https://drive.google.com/uc?id=1vA-vnvTlHoXV1q6bu4S_qay37nz7X3UM&export=download\"\n",
    "URL2019 <- \"https://drive.google.com/uc?id=1kBSEJl-JCIzqzVmB9PMLZ-C2WM1hH7je&export=download\"\n",
    "URL2020 <- \"https://drive.google.com/uc?id=1zaTH_62fMJNYMjWItzjSvrK3nKdK74Zn&export=download\"\n",
    "URL2021 <- \"https://drive.google.com/uc?id=1Inz166gXuGusb47PhV6nQMEpxpl4Wh92&export=download\"\n",
    "URL2022 <- \"https://drive.google.com/uc?id=1vUUblkLnMKSxb8S0y55Zi3IHjfIZOJ2N&export=download\"\n",
    "cr2017 <- read.csv(URL2017)\n",
    "cr2018 <- read.csv(URL2018)\n",
    "cr2019 <- read.csv(URL2019)\n",
    "cr2020 <- read.csv(URL2020)\n",
    "cr2021 <- read.csv(URL2021)\n",
    "cr2022 <- read.csv(URL2022)"
   ]
  },
  {
   "cell_type": "code",
   "execution_count": 12,
   "id": "1b7a210a",
   "metadata": {},
   "outputs": [
    {
     "data": {
      "text/html": [
       "<table class=\"dataframe\">\n",
       "<caption>A data.frame: 6 × 10</caption>\n",
       "<thead>\n",
       "\t<tr><th></th><th scope=col>TYPE</th><th scope=col>YEAR</th><th scope=col>MONTH</th><th scope=col>DAY</th><th scope=col>HOUR</th><th scope=col>MINUTE</th><th scope=col>HUNDRED_BLOCK</th><th scope=col>NEIGHBOURHOOD</th><th scope=col>X</th><th scope=col>Y</th></tr>\n",
       "\t<tr><th></th><th scope=col>&lt;chr&gt;</th><th scope=col>&lt;int&gt;</th><th scope=col>&lt;int&gt;</th><th scope=col>&lt;int&gt;</th><th scope=col>&lt;int&gt;</th><th scope=col>&lt;int&gt;</th><th scope=col>&lt;chr&gt;</th><th scope=col>&lt;chr&gt;</th><th scope=col>&lt;dbl&gt;</th><th scope=col>&lt;dbl&gt;</th></tr>\n",
       "</thead>\n",
       "<tbody>\n",
       "\t<tr><th scope=row>1</th><td>Theft of Vehicle</td><td>2017</td><td>11</td><td>29</td><td>20</td><td> 0</td><td>29XX SKEENA ST  </td><td>Renfrew-Collingwood      </td><td>497919.2</td><td>5456148</td></tr>\n",
       "\t<tr><th scope=row>2</th><td>Theft of Vehicle</td><td>2017</td><td> 6</td><td>21</td><td>21</td><td> 0</td><td>2X JACKSON AVE  </td><td>Strathcona               </td><td>493220.8</td><td>5459096</td></tr>\n",
       "\t<tr><th scope=row>3</th><td>Theft of Vehicle</td><td>2017</td><td> 9</td><td>21</td><td>18</td><td> 0</td><td>2X W 14TH AVE   </td><td>Mount Pleasant           </td><td>492319.5</td><td>5456190</td></tr>\n",
       "\t<tr><th scope=row>4</th><td>Theft of Vehicle</td><td>2017</td><td> 5</td><td> 9</td><td>15</td><td>30</td><td>2X W PENDER ST  </td><td>Central Business District</td><td>492338.0</td><td>5458667</td></tr>\n",
       "\t<tr><th scope=row>5</th><td>Theft of Vehicle</td><td>2017</td><td>10</td><td> 9</td><td> 6</td><td> 0</td><td>2XX ALEXANDER ST</td><td>Strathcona               </td><td>492802.5</td><td>5459038</td></tr>\n",
       "\t<tr><th scope=row>6</th><td>Theft of Vehicle</td><td>2017</td><td> 6</td><td>13</td><td> 6</td><td>45</td><td>2XX CENTRAL ST  </td><td>Strathcona               </td><td>492756.6</td><td>5457623</td></tr>\n",
       "</tbody>\n",
       "</table>\n"
      ],
      "text/latex": [
       "A data.frame: 6 × 10\n",
       "\\begin{tabular}{r|llllllllll}\n",
       "  & TYPE & YEAR & MONTH & DAY & HOUR & MINUTE & HUNDRED\\_BLOCK & NEIGHBOURHOOD & X & Y\\\\\n",
       "  & <chr> & <int> & <int> & <int> & <int> & <int> & <chr> & <chr> & <dbl> & <dbl>\\\\\n",
       "\\hline\n",
       "\t1 & Theft of Vehicle & 2017 & 11 & 29 & 20 &  0 & 29XX SKEENA ST   & Renfrew-Collingwood       & 497919.2 & 5456148\\\\\n",
       "\t2 & Theft of Vehicle & 2017 &  6 & 21 & 21 &  0 & 2X JACKSON AVE   & Strathcona                & 493220.8 & 5459096\\\\\n",
       "\t3 & Theft of Vehicle & 2017 &  9 & 21 & 18 &  0 & 2X W 14TH AVE    & Mount Pleasant            & 492319.5 & 5456190\\\\\n",
       "\t4 & Theft of Vehicle & 2017 &  5 &  9 & 15 & 30 & 2X W PENDER ST   & Central Business District & 492338.0 & 5458667\\\\\n",
       "\t5 & Theft of Vehicle & 2017 & 10 &  9 &  6 &  0 & 2XX ALEXANDER ST & Strathcona                & 492802.5 & 5459038\\\\\n",
       "\t6 & Theft of Vehicle & 2017 &  6 & 13 &  6 & 45 & 2XX CENTRAL ST   & Strathcona                & 492756.6 & 5457623\\\\\n",
       "\\end{tabular}\n"
      ],
      "text/markdown": [
       "\n",
       "A data.frame: 6 × 10\n",
       "\n",
       "| <!--/--> | TYPE &lt;chr&gt; | YEAR &lt;int&gt; | MONTH &lt;int&gt; | DAY &lt;int&gt; | HOUR &lt;int&gt; | MINUTE &lt;int&gt; | HUNDRED_BLOCK &lt;chr&gt; | NEIGHBOURHOOD &lt;chr&gt; | X &lt;dbl&gt; | Y &lt;dbl&gt; |\n",
       "|---|---|---|---|---|---|---|---|---|---|---|\n",
       "| 1 | Theft of Vehicle | 2017 | 11 | 29 | 20 |  0 | 29XX SKEENA ST   | Renfrew-Collingwood       | 497919.2 | 5456148 |\n",
       "| 2 | Theft of Vehicle | 2017 |  6 | 21 | 21 |  0 | 2X JACKSON AVE   | Strathcona                | 493220.8 | 5459096 |\n",
       "| 3 | Theft of Vehicle | 2017 |  9 | 21 | 18 |  0 | 2X W 14TH AVE    | Mount Pleasant            | 492319.5 | 5456190 |\n",
       "| 4 | Theft of Vehicle | 2017 |  5 |  9 | 15 | 30 | 2X W PENDER ST   | Central Business District | 492338.0 | 5458667 |\n",
       "| 5 | Theft of Vehicle | 2017 | 10 |  9 |  6 |  0 | 2XX ALEXANDER ST | Strathcona                | 492802.5 | 5459038 |\n",
       "| 6 | Theft of Vehicle | 2017 |  6 | 13 |  6 | 45 | 2XX CENTRAL ST   | Strathcona                | 492756.6 | 5457623 |\n",
       "\n"
      ],
      "text/plain": [
       "  TYPE             YEAR MONTH DAY HOUR MINUTE HUNDRED_BLOCK   \n",
       "1 Theft of Vehicle 2017 11    29  20    0     29XX SKEENA ST  \n",
       "2 Theft of Vehicle 2017  6    21  21    0     2X JACKSON AVE  \n",
       "3 Theft of Vehicle 2017  9    21  18    0     2X W 14TH AVE   \n",
       "4 Theft of Vehicle 2017  5     9  15   30     2X W PENDER ST  \n",
       "5 Theft of Vehicle 2017 10     9   6    0     2XX ALEXANDER ST\n",
       "6 Theft of Vehicle 2017  6    13   6   45     2XX CENTRAL ST  \n",
       "  NEIGHBOURHOOD             X        Y      \n",
       "1 Renfrew-Collingwood       497919.2 5456148\n",
       "2 Strathcona                493220.8 5459096\n",
       "3 Mount Pleasant            492319.5 5456190\n",
       "4 Central Business District 492338.0 5458667\n",
       "5 Strathcona                492802.5 5459038\n",
       "6 Strathcona                492756.6 5457623"
      ]
     },
     "metadata": {},
     "output_type": "display_data"
    },
    {
     "data": {
      "text/html": [
       "<table class=\"dataframe\">\n",
       "<caption>A data.frame: 6 × 5</caption>\n",
       "<thead>\n",
       "\t<tr><th></th><th scope=col>TYPE</th><th scope=col>YEAR</th><th scope=col>MONTH</th><th scope=col>DAY</th><th scope=col>NEIGHBOURHOOD</th></tr>\n",
       "\t<tr><th></th><th scope=col>&lt;chr&gt;</th><th scope=col>&lt;int&gt;</th><th scope=col>&lt;int&gt;</th><th scope=col>&lt;int&gt;</th><th scope=col>&lt;chr&gt;</th></tr>\n",
       "</thead>\n",
       "<tbody>\n",
       "\t<tr><th scope=row>1</th><td>Theft of Vehicle</td><td>2017</td><td>11</td><td>29</td><td>Renfrew-Collingwood      </td></tr>\n",
       "\t<tr><th scope=row>2</th><td>Theft of Vehicle</td><td>2017</td><td> 6</td><td>21</td><td>Strathcona               </td></tr>\n",
       "\t<tr><th scope=row>3</th><td>Theft of Vehicle</td><td>2017</td><td> 9</td><td>21</td><td>Mount Pleasant           </td></tr>\n",
       "\t<tr><th scope=row>4</th><td>Theft of Vehicle</td><td>2017</td><td> 5</td><td> 9</td><td>Central Business District</td></tr>\n",
       "\t<tr><th scope=row>5</th><td>Theft of Vehicle</td><td>2017</td><td>10</td><td> 9</td><td>Strathcona               </td></tr>\n",
       "\t<tr><th scope=row>6</th><td>Theft of Vehicle</td><td>2017</td><td> 6</td><td>13</td><td>Strathcona               </td></tr>\n",
       "</tbody>\n",
       "</table>\n"
      ],
      "text/latex": [
       "A data.frame: 6 × 5\n",
       "\\begin{tabular}{r|lllll}\n",
       "  & TYPE & YEAR & MONTH & DAY & NEIGHBOURHOOD\\\\\n",
       "  & <chr> & <int> & <int> & <int> & <chr>\\\\\n",
       "\\hline\n",
       "\t1 & Theft of Vehicle & 2017 & 11 & 29 & Renfrew-Collingwood      \\\\\n",
       "\t2 & Theft of Vehicle & 2017 &  6 & 21 & Strathcona               \\\\\n",
       "\t3 & Theft of Vehicle & 2017 &  9 & 21 & Mount Pleasant           \\\\\n",
       "\t4 & Theft of Vehicle & 2017 &  5 &  9 & Central Business District\\\\\n",
       "\t5 & Theft of Vehicle & 2017 & 10 &  9 & Strathcona               \\\\\n",
       "\t6 & Theft of Vehicle & 2017 &  6 & 13 & Strathcona               \\\\\n",
       "\\end{tabular}\n"
      ],
      "text/markdown": [
       "\n",
       "A data.frame: 6 × 5\n",
       "\n",
       "| <!--/--> | TYPE &lt;chr&gt; | YEAR &lt;int&gt; | MONTH &lt;int&gt; | DAY &lt;int&gt; | NEIGHBOURHOOD &lt;chr&gt; |\n",
       "|---|---|---|---|---|---|\n",
       "| 1 | Theft of Vehicle | 2017 | 11 | 29 | Renfrew-Collingwood       |\n",
       "| 2 | Theft of Vehicle | 2017 |  6 | 21 | Strathcona                |\n",
       "| 3 | Theft of Vehicle | 2017 |  9 | 21 | Mount Pleasant            |\n",
       "| 4 | Theft of Vehicle | 2017 |  5 |  9 | Central Business District |\n",
       "| 5 | Theft of Vehicle | 2017 | 10 |  9 | Strathcona                |\n",
       "| 6 | Theft of Vehicle | 2017 |  6 | 13 | Strathcona                |\n",
       "\n"
      ],
      "text/plain": [
       "  TYPE             YEAR MONTH DAY NEIGHBOURHOOD            \n",
       "1 Theft of Vehicle 2017 11    29  Renfrew-Collingwood      \n",
       "2 Theft of Vehicle 2017  6    21  Strathcona               \n",
       "3 Theft of Vehicle 2017  9    21  Mount Pleasant           \n",
       "4 Theft of Vehicle 2017  5     9  Central Business District\n",
       "5 Theft of Vehicle 2017 10     9  Strathcona               \n",
       "6 Theft of Vehicle 2017  6    13  Strathcona               "
      ]
     },
     "metadata": {},
     "output_type": "display_data"
    }
   ],
   "source": [
    "# Now we combine the 6 years into one dataframe\n",
    "cr2017_2022 <- rbind(cr2017,cr2018,cr2019,cr2020,cr2021,cr2022)\n",
    "head(cr2017_2022)\n",
    "\n",
    "# We select the TYPE, YEAR, NEIGHBOURHOOD columns for analysis since they are our variables of interest\n",
    "crime2017_2022 <- cr2017_2022 %>% \n",
    "    select(TYPE, YEAR, MONTH, DAY, NEIGHBOURHOOD) \n",
    "head(crime2017_2022)"
   ]
  },
  {
   "cell_type": "markdown",
   "id": "7b15ac06-aca3-47d7-ad53-d84e3e516ceb",
   "metadata": {},
   "source": [
    "#### Preliminary Analysis"
   ]
  },
  {
   "cell_type": "code",
   "execution_count": 13,
   "id": "7af41c3f-5f7f-41a9-a669-c79d4913b693",
   "metadata": {},
   "outputs": [
    {
     "data": {
      "text/html": [
       "<table class=\"dataframe\">\n",
       "<caption>A tibble: 6 × 5</caption>\n",
       "<thead>\n",
       "\t<tr><th scope=col>YEAR</th><th scope=col>MONTH</th><th scope=col>DAY</th><th scope=col>NEIGHBOURHOOD</th><th scope=col>total</th></tr>\n",
       "\t<tr><th scope=col>&lt;int&gt;</th><th scope=col>&lt;int&gt;</th><th scope=col>&lt;int&gt;</th><th scope=col>&lt;chr&gt;</th><th scope=col>&lt;int&gt;</th></tr>\n",
       "</thead>\n",
       "<tbody>\n",
       "\t<tr><td>2017</td><td>1</td><td>1</td><td>Arbutus Ridge            </td><td> 1</td></tr>\n",
       "\t<tr><td>2017</td><td>1</td><td>1</td><td>Central Business District</td><td>27</td></tr>\n",
       "\t<tr><td>2017</td><td>1</td><td>1</td><td>Dunbar-Southlands        </td><td> 1</td></tr>\n",
       "\t<tr><td>2017</td><td>1</td><td>1</td><td>Fairview                 </td><td> 5</td></tr>\n",
       "\t<tr><td>2017</td><td>1</td><td>1</td><td>Grandview-Woodland       </td><td> 7</td></tr>\n",
       "\t<tr><td>2017</td><td>1</td><td>1</td><td>Hastings-Sunrise         </td><td> 8</td></tr>\n",
       "</tbody>\n",
       "</table>\n"
      ],
      "text/latex": [
       "A tibble: 6 × 5\n",
       "\\begin{tabular}{lllll}\n",
       " YEAR & MONTH & DAY & NEIGHBOURHOOD & total\\\\\n",
       " <int> & <int> & <int> & <chr> & <int>\\\\\n",
       "\\hline\n",
       "\t 2017 & 1 & 1 & Arbutus Ridge             &  1\\\\\n",
       "\t 2017 & 1 & 1 & Central Business District & 27\\\\\n",
       "\t 2017 & 1 & 1 & Dunbar-Southlands         &  1\\\\\n",
       "\t 2017 & 1 & 1 & Fairview                  &  5\\\\\n",
       "\t 2017 & 1 & 1 & Grandview-Woodland        &  7\\\\\n",
       "\t 2017 & 1 & 1 & Hastings-Sunrise          &  8\\\\\n",
       "\\end{tabular}\n"
      ],
      "text/markdown": [
       "\n",
       "A tibble: 6 × 5\n",
       "\n",
       "| YEAR &lt;int&gt; | MONTH &lt;int&gt; | DAY &lt;int&gt; | NEIGHBOURHOOD &lt;chr&gt; | total &lt;int&gt; |\n",
       "|---|---|---|---|---|\n",
       "| 2017 | 1 | 1 | Arbutus Ridge             |  1 |\n",
       "| 2017 | 1 | 1 | Central Business District | 27 |\n",
       "| 2017 | 1 | 1 | Dunbar-Southlands         |  1 |\n",
       "| 2017 | 1 | 1 | Fairview                  |  5 |\n",
       "| 2017 | 1 | 1 | Grandview-Woodland        |  7 |\n",
       "| 2017 | 1 | 1 | Hastings-Sunrise          |  8 |\n",
       "\n"
      ],
      "text/plain": [
       "  YEAR MONTH DAY NEIGHBOURHOOD             total\n",
       "1 2017 1     1   Arbutus Ridge              1   \n",
       "2 2017 1     1   Central Business District 27   \n",
       "3 2017 1     1   Dunbar-Southlands          1   \n",
       "4 2017 1     1   Fairview                   5   \n",
       "5 2017 1     1   Grandview-Woodland         7   \n",
       "6 2017 1     1   Hastings-Sunrise           8   "
      ]
     },
     "metadata": {},
     "output_type": "display_data"
    }
   ],
   "source": [
    "# Now we create a column named \"total\" that holds the overall daily total crime incidents for each neighborhood in each year\n",
    "crime_total <- crime2017_2022 %>%\n",
    "    group_by(YEAR, MONTH, DAY, NEIGHBOURHOOD) %>%\n",
    "    filter(NEIGHBOURHOOD != \"\") %>%\n",
    "    summarise(total = n(), `.groups` = \"drop\")\n",
    "head(crime_total)"
   ]
  },
  {
   "cell_type": "code",
   "execution_count": 14,
   "id": "12382948-cf7c-4f46-b8fc-ef3db8d3f6fb",
   "metadata": {},
   "outputs": [
    {
     "data": {
      "text/html": [
       "<table class=\"dataframe\">\n",
       "<caption>A data.frame: 6 × 6</caption>\n",
       "<thead>\n",
       "\t<tr><th></th><th scope=col>YEAR</th><th scope=col>DAY</th><th scope=col>NEIGHBOURHOOD</th><th scope=col>daily_avg</th><th scope=col>daily_median</th><th scope=col>daily_sd</th></tr>\n",
       "\t<tr><th></th><th scope=col>&lt;int&gt;</th><th scope=col>&lt;int&gt;</th><th scope=col>&lt;chr&gt;</th><th scope=col>&lt;dbl&gt;</th><th scope=col>&lt;dbl&gt;</th><th scope=col>&lt;dbl&gt;</th></tr>\n",
       "</thead>\n",
       "<tbody>\n",
       "\t<tr><th scope=row>1</th><td>2017</td><td>1</td><td>Arbutus Ridge            </td><td> 1.444444</td><td> 1.0</td><td>0.8819171</td></tr>\n",
       "\t<tr><th scope=row>2</th><td>2017</td><td>1</td><td>Central Business District</td><td>36.583333</td><td>35.5</td><td>9.0096749</td></tr>\n",
       "\t<tr><th scope=row>3</th><td>2017</td><td>1</td><td>Dunbar-Southlands        </td><td> 2.125000</td><td> 1.5</td><td>1.7268882</td></tr>\n",
       "\t<tr><th scope=row>4</th><td>2017</td><td>1</td><td>Fairview                 </td><td> 6.666667</td><td> 6.0</td><td>3.7009417</td></tr>\n",
       "\t<tr><th scope=row>5</th><td>2017</td><td>1</td><td>Grandview-Woodland       </td><td> 6.583333</td><td> 6.0</td><td>3.0289012</td></tr>\n",
       "\t<tr><th scope=row>6</th><td>2017</td><td>1</td><td>Hastings-Sunrise         </td><td> 5.000000</td><td> 5.5</td><td>2.3741027</td></tr>\n",
       "</tbody>\n",
       "</table>\n"
      ],
      "text/latex": [
       "A data.frame: 6 × 6\n",
       "\\begin{tabular}{r|llllll}\n",
       "  & YEAR & DAY & NEIGHBOURHOOD & daily\\_avg & daily\\_median & daily\\_sd\\\\\n",
       "  & <int> & <int> & <chr> & <dbl> & <dbl> & <dbl>\\\\\n",
       "\\hline\n",
       "\t1 & 2017 & 1 & Arbutus Ridge             &  1.444444 &  1.0 & 0.8819171\\\\\n",
       "\t2 & 2017 & 1 & Central Business District & 36.583333 & 35.5 & 9.0096749\\\\\n",
       "\t3 & 2017 & 1 & Dunbar-Southlands         &  2.125000 &  1.5 & 1.7268882\\\\\n",
       "\t4 & 2017 & 1 & Fairview                  &  6.666667 &  6.0 & 3.7009417\\\\\n",
       "\t5 & 2017 & 1 & Grandview-Woodland        &  6.583333 &  6.0 & 3.0289012\\\\\n",
       "\t6 & 2017 & 1 & Hastings-Sunrise          &  5.000000 &  5.5 & 2.3741027\\\\\n",
       "\\end{tabular}\n"
      ],
      "text/markdown": [
       "\n",
       "A data.frame: 6 × 6\n",
       "\n",
       "| <!--/--> | YEAR &lt;int&gt; | DAY &lt;int&gt; | NEIGHBOURHOOD &lt;chr&gt; | daily_avg &lt;dbl&gt; | daily_median &lt;dbl&gt; | daily_sd &lt;dbl&gt; |\n",
       "|---|---|---|---|---|---|---|\n",
       "| 1 | 2017 | 1 | Arbutus Ridge             |  1.444444 |  1.0 | 0.8819171 |\n",
       "| 2 | 2017 | 1 | Central Business District | 36.583333 | 35.5 | 9.0096749 |\n",
       "| 3 | 2017 | 1 | Dunbar-Southlands         |  2.125000 |  1.5 | 1.7268882 |\n",
       "| 4 | 2017 | 1 | Fairview                  |  6.666667 |  6.0 | 3.7009417 |\n",
       "| 5 | 2017 | 1 | Grandview-Woodland        |  6.583333 |  6.0 | 3.0289012 |\n",
       "| 6 | 2017 | 1 | Hastings-Sunrise          |  5.000000 |  5.5 | 2.3741027 |\n",
       "\n"
      ],
      "text/plain": [
       "  YEAR DAY NEIGHBOURHOOD             daily_avg daily_median daily_sd \n",
       "1 2017 1   Arbutus Ridge              1.444444  1.0         0.8819171\n",
       "2 2017 1   Central Business District 36.583333 35.5         9.0096749\n",
       "3 2017 1   Dunbar-Southlands          2.125000  1.5         1.7268882\n",
       "4 2017 1   Fairview                   6.666667  6.0         3.7009417\n",
       "5 2017 1   Grandview-Woodland         6.583333  6.0         3.0289012\n",
       "6 2017 1   Hastings-Sunrise           5.000000  5.5         2.3741027"
      ]
     },
     "metadata": {},
     "output_type": "display_data"
    }
   ],
   "source": [
    "# On the next three cells we will calculate the average, median and standard deviation for different time frames. Namely we\n",
    "# will go over the daily, monthly and yearly data for the crime incidents to help our analysis\n",
    "\n",
    "# First we make the analysis based on the daily data\n",
    "# Here we calculate the daily average crime incidents for each neighborhood in each year\n",
    "crime_daily_avg <- crime_total %>%\n",
    "    group_by(YEAR, DAY, NEIGHBOURHOOD) %>%\n",
    "    summarise(daily_avg = mean(total), `.groups` = \"drop\")\n",
    "\n",
    "# Here we calculate the daily median  for crime incidents for each neighborhood in each year\n",
    "crime_daily_median <- crime_total %>%\n",
    "    group_by(YEAR, DAY, NEIGHBOURHOOD) %>%\n",
    "    summarise(daily_median = median(total), `.groups` = \"drop\")\n",
    "\n",
    "# Here we calculate the daily standard deviation for crime incidents for each neighborhood in each year\n",
    "crime_daily_sd <- crime_total %>%\n",
    "    group_by(YEAR, DAY, NEIGHBOURHOOD) %>%\n",
    "    summarise(daily_sd = sd(total), `.groups` = \"drop\")\n",
    "\n",
    "# We set up the summary statistics by biding it and selecting the relevant data for later analysis\n",
    "summary_stats_on_daily <- cbind(crime_daily_avg,crime_daily_median,crime_daily_sd) %>%\n",
    "    select(c(1,2,3,4,8,12))\n",
    "head(summary_stats_on_daily)"
   ]
  },
  {
   "cell_type": "code",
   "execution_count": 15,
   "id": "22b8969f-14ce-4365-a08d-6fab51b16947",
   "metadata": {},
   "outputs": [
    {
     "data": {
      "text/html": [
       "<table class=\"dataframe\">\n",
       "<caption>A data.frame: 6 × 5</caption>\n",
       "<thead>\n",
       "\t<tr><th></th><th scope=col>YEAR</th><th scope=col>NEIGHBOURHOOD</th><th scope=col>yearly_avg</th><th scope=col>yearly_median</th><th scope=col>yearly_sd</th></tr>\n",
       "\t<tr><th></th><th scope=col>&lt;int&gt;</th><th scope=col>&lt;chr&gt;</th><th scope=col>&lt;dbl&gt;</th><th scope=col>&lt;dbl&gt;</th><th scope=col>&lt;dbl&gt;</th></tr>\n",
       "</thead>\n",
       "<tbody>\n",
       "\t<tr><th scope=row>1</th><td>2017</td><td>Arbutus Ridge            </td><td> 1.829787</td><td> 1</td><td>1.126965</td></tr>\n",
       "\t<tr><th scope=row>2</th><td>2017</td><td>Central Business District</td><td>36.673973</td><td>37</td><td>8.565873</td></tr>\n",
       "\t<tr><th scope=row>3</th><td>2017</td><td>Dunbar-Southlands        </td><td> 2.051383</td><td> 2</td><td>1.215528</td></tr>\n",
       "\t<tr><th scope=row>4</th><td>2017</td><td>Fairview                 </td><td> 5.988950</td><td> 6</td><td>2.813676</td></tr>\n",
       "\t<tr><th scope=row>5</th><td>2017</td><td>Grandview-Woodland       </td><td> 6.617080</td><td> 6</td><td>3.196067</td></tr>\n",
       "\t<tr><th scope=row>6</th><td>2017</td><td>Hastings-Sunrise         </td><td> 4.056497</td><td> 4</td><td>2.132223</td></tr>\n",
       "</tbody>\n",
       "</table>\n"
      ],
      "text/latex": [
       "A data.frame: 6 × 5\n",
       "\\begin{tabular}{r|lllll}\n",
       "  & YEAR & NEIGHBOURHOOD & yearly\\_avg & yearly\\_median & yearly\\_sd\\\\\n",
       "  & <int> & <chr> & <dbl> & <dbl> & <dbl>\\\\\n",
       "\\hline\n",
       "\t1 & 2017 & Arbutus Ridge             &  1.829787 &  1 & 1.126965\\\\\n",
       "\t2 & 2017 & Central Business District & 36.673973 & 37 & 8.565873\\\\\n",
       "\t3 & 2017 & Dunbar-Southlands         &  2.051383 &  2 & 1.215528\\\\\n",
       "\t4 & 2017 & Fairview                  &  5.988950 &  6 & 2.813676\\\\\n",
       "\t5 & 2017 & Grandview-Woodland        &  6.617080 &  6 & 3.196067\\\\\n",
       "\t6 & 2017 & Hastings-Sunrise          &  4.056497 &  4 & 2.132223\\\\\n",
       "\\end{tabular}\n"
      ],
      "text/markdown": [
       "\n",
       "A data.frame: 6 × 5\n",
       "\n",
       "| <!--/--> | YEAR &lt;int&gt; | NEIGHBOURHOOD &lt;chr&gt; | yearly_avg &lt;dbl&gt; | yearly_median &lt;dbl&gt; | yearly_sd &lt;dbl&gt; |\n",
       "|---|---|---|---|---|---|\n",
       "| 1 | 2017 | Arbutus Ridge             |  1.829787 |  1 | 1.126965 |\n",
       "| 2 | 2017 | Central Business District | 36.673973 | 37 | 8.565873 |\n",
       "| 3 | 2017 | Dunbar-Southlands         |  2.051383 |  2 | 1.215528 |\n",
       "| 4 | 2017 | Fairview                  |  5.988950 |  6 | 2.813676 |\n",
       "| 5 | 2017 | Grandview-Woodland        |  6.617080 |  6 | 3.196067 |\n",
       "| 6 | 2017 | Hastings-Sunrise          |  4.056497 |  4 | 2.132223 |\n",
       "\n"
      ],
      "text/plain": [
       "  YEAR NEIGHBOURHOOD             yearly_avg yearly_median yearly_sd\n",
       "1 2017 Arbutus Ridge              1.829787   1            1.126965 \n",
       "2 2017 Central Business District 36.673973  37            8.565873 \n",
       "3 2017 Dunbar-Southlands          2.051383   2            1.215528 \n",
       "4 2017 Fairview                   5.988950   6            2.813676 \n",
       "5 2017 Grandview-Woodland         6.617080   6            3.196067 \n",
       "6 2017 Hastings-Sunrise           4.056497   4            2.132223 "
      ]
     },
     "metadata": {},
     "output_type": "display_data"
    }
   ],
   "source": [
    "# Now we make the analysis based on the yearly data\n",
    "# Here we calculate the yearly average crime incidents for each neighborhood\n",
    "crime_yearly_avg <- crime_total %>%\n",
    "    group_by(YEAR, NEIGHBOURHOOD) %>%\n",
    "    summarise(yearly_avg = mean(total), `.groups` = \"drop\")\n",
    "\n",
    "# Here we calculate the yearly median for crime incidents for each neighborhood\n",
    "crime_yearly_median <- crime_total %>%\n",
    "    group_by(YEAR, NEIGHBOURHOOD) %>%\n",
    "    summarise(yearly_median = median(total), `.groups` = \"drop\")\n",
    "\n",
    "# Here we calculate the yearly standard deviation for crime incidents for each neighborhood\n",
    "crime_yearly_sd <- crime_total %>%\n",
    "    group_by(YEAR, NEIGHBOURHOOD) %>%\n",
    "    summarise(yearly_sd = sd(total), `.groups` = \"drop\")\n",
    "\n",
    "# We set up the summary statistics by biding it and selecting the relevant data for later analysis\n",
    "summary_stats_on_year <- cbind(crime_yearly_avg,crime_yearly_median,crime_yearly_sd) %>%\n",
    "    select(c(1,2,3,6,9))\n",
    "head(summary_stats_on_year)"
   ]
  },
  {
   "cell_type": "code",
   "execution_count": 16,
   "id": "d617c2dd-1a6a-443b-a3dd-b296c0e79871",
   "metadata": {},
   "outputs": [
    {
     "data": {
      "text/html": [
       "<table class=\"dataframe\">\n",
       "<caption>A data.frame: 6 × 6</caption>\n",
       "<thead>\n",
       "\t<tr><th></th><th scope=col>YEAR</th><th scope=col>MONTH</th><th scope=col>NEIGHBOURHOOD</th><th scope=col>monthly_median</th><th scope=col>monthly_avg</th><th scope=col>monthly_sd</th></tr>\n",
       "\t<tr><th></th><th scope=col>&lt;int&gt;</th><th scope=col>&lt;int&gt;</th><th scope=col>&lt;chr&gt;</th><th scope=col>&lt;dbl&gt;</th><th scope=col>&lt;dbl&gt;</th><th scope=col>&lt;dbl&gt;</th></tr>\n",
       "</thead>\n",
       "<tbody>\n",
       "\t<tr><th scope=row>1</th><td>2017</td><td>1</td><td>Arbutus Ridge            </td><td> 1.0</td><td> 1.470588</td><td>0.8744746</td></tr>\n",
       "\t<tr><th scope=row>2</th><td>2017</td><td>1</td><td>Central Business District</td><td>31.0</td><td>30.645161</td><td>8.3128350</td></tr>\n",
       "\t<tr><th scope=row>3</th><td>2017</td><td>1</td><td>Dunbar-Southlands        </td><td> 1.5</td><td> 2.000000</td><td>1.3377121</td></tr>\n",
       "\t<tr><th scope=row>4</th><td>2017</td><td>1</td><td>Fairview                 </td><td> 4.0</td><td> 4.193548</td><td>2.1972612</td></tr>\n",
       "\t<tr><th scope=row>5</th><td>2017</td><td>1</td><td>Grandview-Woodland       </td><td> 4.0</td><td> 4.833333</td><td>2.7175462</td></tr>\n",
       "\t<tr><th scope=row>6</th><td>2017</td><td>1</td><td>Hastings-Sunrise         </td><td> 3.0</td><td> 3.344828</td><td>1.8376200</td></tr>\n",
       "</tbody>\n",
       "</table>\n"
      ],
      "text/latex": [
       "A data.frame: 6 × 6\n",
       "\\begin{tabular}{r|llllll}\n",
       "  & YEAR & MONTH & NEIGHBOURHOOD & monthly\\_median & monthly\\_avg & monthly\\_sd\\\\\n",
       "  & <int> & <int> & <chr> & <dbl> & <dbl> & <dbl>\\\\\n",
       "\\hline\n",
       "\t1 & 2017 & 1 & Arbutus Ridge             &  1.0 &  1.470588 & 0.8744746\\\\\n",
       "\t2 & 2017 & 1 & Central Business District & 31.0 & 30.645161 & 8.3128350\\\\\n",
       "\t3 & 2017 & 1 & Dunbar-Southlands         &  1.5 &  2.000000 & 1.3377121\\\\\n",
       "\t4 & 2017 & 1 & Fairview                  &  4.0 &  4.193548 & 2.1972612\\\\\n",
       "\t5 & 2017 & 1 & Grandview-Woodland        &  4.0 &  4.833333 & 2.7175462\\\\\n",
       "\t6 & 2017 & 1 & Hastings-Sunrise          &  3.0 &  3.344828 & 1.8376200\\\\\n",
       "\\end{tabular}\n"
      ],
      "text/markdown": [
       "\n",
       "A data.frame: 6 × 6\n",
       "\n",
       "| <!--/--> | YEAR &lt;int&gt; | MONTH &lt;int&gt; | NEIGHBOURHOOD &lt;chr&gt; | monthly_median &lt;dbl&gt; | monthly_avg &lt;dbl&gt; | monthly_sd &lt;dbl&gt; |\n",
       "|---|---|---|---|---|---|---|\n",
       "| 1 | 2017 | 1 | Arbutus Ridge             |  1.0 |  1.470588 | 0.8744746 |\n",
       "| 2 | 2017 | 1 | Central Business District | 31.0 | 30.645161 | 8.3128350 |\n",
       "| 3 | 2017 | 1 | Dunbar-Southlands         |  1.5 |  2.000000 | 1.3377121 |\n",
       "| 4 | 2017 | 1 | Fairview                  |  4.0 |  4.193548 | 2.1972612 |\n",
       "| 5 | 2017 | 1 | Grandview-Woodland        |  4.0 |  4.833333 | 2.7175462 |\n",
       "| 6 | 2017 | 1 | Hastings-Sunrise          |  3.0 |  3.344828 | 1.8376200 |\n",
       "\n"
      ],
      "text/plain": [
       "  YEAR MONTH NEIGHBOURHOOD             monthly_median monthly_avg monthly_sd\n",
       "1 2017 1     Arbutus Ridge              1.0            1.470588   0.8744746 \n",
       "2 2017 1     Central Business District 31.0           30.645161   8.3128350 \n",
       "3 2017 1     Dunbar-Southlands          1.5            2.000000   1.3377121 \n",
       "4 2017 1     Fairview                   4.0            4.193548   2.1972612 \n",
       "5 2017 1     Grandview-Woodland         4.0            4.833333   2.7175462 \n",
       "6 2017 1     Hastings-Sunrise           3.0            3.344828   1.8376200 "
      ]
     },
     "metadata": {},
     "output_type": "display_data"
    }
   ],
   "source": [
    "# Now we make the analysis based on the monthly analysis\n",
    "# Here we calculate the monthly average crime incidents per day for all neighbourhoods\n",
    "crime_monthly_avg <- crime_total %>%\n",
    "    group_by(YEAR,MONTH, NEIGHBOURHOOD) %>%\n",
    "    summarise(monthly_avg = mean(total), `.groups` = \"drop\")\n",
    "#head(crime_monthly_avg)\n",
    "\n",
    "# Here we calculate the monthly median crime incidents per day for all neighbourhoods\n",
    "crime_monthly_median <- crime_total %>%\n",
    "    group_by(YEAR,MONTH, NEIGHBOURHOOD) %>%\n",
    "    summarise(monthly_median = median(total), `.groups` = \"drop\")\n",
    "#head(crime_monthly_median)\n",
    "\n",
    "# Here we calculate the monthly standard deviation crime incidents per day for all neighbourhoods\n",
    "crime_monthly_sd <- crime_total %>%\n",
    "    group_by(YEAR,MONTH, NEIGHBOURHOOD) %>%\n",
    "    summarise(monthly_sd = sd(total), `.groups` = \"drop\")\n",
    "#head(crime_monthly_sd)\n",
    "\n",
    "# We set up the summary statistics by biding it and selecting the relevant data for later analysis\n",
    "summary_stats_on_month <- cbind(crime_monthly_median,crime_monthly_avg,crime_monthly_sd) %>%\n",
    "    select(c(1,2,3,4,8,12))\n",
    "head(summary_stats_on_month)"
   ]
  },
  {
   "cell_type": "code",
   "execution_count": 17,
   "id": "533ed8a6-510e-4f07-bd14-3972a76b1bb8",
   "metadata": {},
   "outputs": [
    {
     "data": {
      "text/html": [
       "53.3333333333333"
      ],
      "text/latex": [
       "53.3333333333333"
      ],
      "text/markdown": [
       "53.3333333333333"
      ],
      "text/plain": [
       "[1] 53.33333"
      ]
     },
     "metadata": {},
     "output_type": "display_data"
    },
    {
     "data": {
      "text/html": [
       "'Central Business District'"
      ],
      "text/latex": [
       "'Central Business District'"
      ],
      "text/markdown": [
       "'Central Business District'"
      ],
      "text/plain": [
       "[1] \"Central Business District\""
      ]
     },
     "metadata": {},
     "output_type": "display_data"
    },
    {
     "data": {
      "text/html": [
       "1"
      ],
      "text/latex": [
       "1"
      ],
      "text/markdown": [
       "1"
      ],
      "text/plain": [
       "[1] 1"
      ]
     },
     "metadata": {},
     "output_type": "display_data"
    },
    {
     "data": {
      "text/html": [
       "'Musqueam'"
      ],
      "text/latex": [
       "'Musqueam'"
      ],
      "text/markdown": [
       "'Musqueam'"
      ],
      "text/plain": [
       "[1] \"Musqueam\""
      ]
     },
     "metadata": {},
     "output_type": "display_data"
    }
   ],
   "source": [
    "# We check the highest average daily cirme incident rate and the neighbourhood where it happened\n",
    "daily_highest <- max(crime_daily_avg$daily_avg)\n",
    "highest_area <- crime_daily_avg$NEIGHBOURHOOD[which.max(crime_daily_avg$daily_avg)]\n",
    "daily_highest\n",
    "highest_area\n",
    "\n",
    "# Now the lowest average daily cirme incident rate and the neighbourhood where it happened\n",
    "daily_lowest <- min(crime_daily_avg$daily_avg)\n",
    "lowest_area <- crime_daily_avg$NEIGHBOURHOOD[which.min(crime_daily_avg$daily_avg)]\n",
    "daily_lowest\n",
    "lowest_area"
   ]
  },
  {
   "cell_type": "markdown",
   "id": "c7f7320c-c296-4cb0-836a-2d0eaaeafaae",
   "metadata": {},
   "source": [
    "#### Visualization"
   ]
  },
  {
   "cell_type": "code",
   "execution_count": 18,
   "id": "3bd7f133-e51d-4117-bebb-bf690747c333",
   "metadata": {},
   "outputs": [
    {
     "data": {
      "image/png": "[encoded data removed]",
      "text/plain": [
       "plot without title"
      ]
     },
     "metadata": {
      "image/png": {
       "height": 420,
       "width": 420
      }
     },
     "output_type": "display_data"
    }
   ],
   "source": [
    "# Here we plot the Population distribution for the daily crime incidents per year\n",
    "pop_dist <- crime_total %>%\n",
    "    ggplot() + \n",
    "    geom_histogram(aes(x = total, y = ..density..), binwidth = 15, color=\"white\") +\n",
    "    theme(text = element_text(size = 15))+\n",
    "    xlab(\"Daily Crime Incidents\") +\n",
    "    ggtitle(\"Population Distribution of the Number of Daily Crime Incidents in each year.\")\n",
    "pop_dist"
   ]
  },
  {
   "cell_type": "markdown",
   "id": "fc2719e7-c192-44a1-ad61-e0acdce6144b",
   "metadata": {},
   "source": [
    "#### Asymptotic "
   ]
  },
  {
   "cell_type": "code",
   "execution_count": 19,
   "id": "e4b7af63-0684-439e-aab1-32eb4b5cb377",
   "metadata": {},
   "outputs": [
    {
     "data": {
      "text/html": [
       "<table class=\"dataframe\">\n",
       "<caption>A tibble: 6 × 3</caption>\n",
       "<thead>\n",
       "\t<tr><th scope=col>DAY</th><th scope=col>replicate</th><th scope=col>sample_mean</th></tr>\n",
       "\t<tr><th scope=col>&lt;int&gt;</th><th scope=col>&lt;int&gt;</th><th scope=col>&lt;dbl&gt;</th></tr>\n",
       "</thead>\n",
       "<tbody>\n",
       "\t<tr><td>1</td><td>1</td><td> 5.666667</td></tr>\n",
       "\t<tr><td>1</td><td>2</td><td> 3.583333</td></tr>\n",
       "\t<tr><td>1</td><td>3</td><td> 4.166667</td></tr>\n",
       "\t<tr><td>1</td><td>4</td><td>10.500000</td></tr>\n",
       "\t<tr><td>1</td><td>5</td><td> 5.125000</td></tr>\n",
       "\t<tr><td>1</td><td>6</td><td> 7.533333</td></tr>\n",
       "</tbody>\n",
       "</table>\n"
      ],
      "text/latex": [
       "A tibble: 6 × 3\n",
       "\\begin{tabular}{lll}\n",
       " DAY & replicate & sample\\_mean\\\\\n",
       " <int> & <int> & <dbl>\\\\\n",
       "\\hline\n",
       "\t 1 & 1 &  5.666667\\\\\n",
       "\t 1 & 2 &  3.583333\\\\\n",
       "\t 1 & 3 &  4.166667\\\\\n",
       "\t 1 & 4 & 10.500000\\\\\n",
       "\t 1 & 5 &  5.125000\\\\\n",
       "\t 1 & 6 &  7.533333\\\\\n",
       "\\end{tabular}\n"
      ],
      "text/markdown": [
       "\n",
       "A tibble: 6 × 3\n",
       "\n",
       "| DAY &lt;int&gt; | replicate &lt;int&gt; | sample_mean &lt;dbl&gt; |\n",
       "|---|---|---|\n",
       "| 1 | 1 |  5.666667 |\n",
       "| 1 | 2 |  3.583333 |\n",
       "| 1 | 3 |  4.166667 |\n",
       "| 1 | 4 | 10.500000 |\n",
       "| 1 | 5 |  5.125000 |\n",
       "| 1 | 6 |  7.533333 |\n",
       "\n"
      ],
      "text/plain": [
       "  DAY replicate sample_mean\n",
       "1 1   1          5.666667  \n",
       "2 1   2          3.583333  \n",
       "3 1   3          4.166667  \n",
       "4 1   4         10.500000  \n",
       "5 1   5          5.125000  \n",
       "6 1   6          7.533333  "
      ]
     },
     "metadata": {},
     "output_type": "display_data"
    }
   ],
   "source": [
    "# Now we will start our asymptotic analysis. First of all we set a seed to ensure reproducibility\n",
    "set.seed(30)\n",
    "# Here we get the mean and standard deviation nescessary for the asymptotic analysis based on the \"total\" column we previously\n",
    "# created that holds the overall daily total crime incidents for each neighborhood in each year\n",
    "pop_mu <- mean(crime_total$total)\n",
    "pop_sd <- sd(crime_total$total)\n",
    "\n",
    "\n",
    "# Now we create a sample mean for our CLT with the sample size of 500\n",
    "sample_500 <- crime_total %>%\n",
    "    rep_sample_n(size = 500, reps = 10000, replace = FALSE) %>%\n",
    "    group_by(DAY, replicate) %>% \n",
    "    summarise(sample_mean = mean(total), `.groups` = \"drop\")\n",
    "head(sample_500)\n",
    "\n",
    "# Here we calculate the normal density and get the shape of the normal distribution to use in the visualization later   \n",
    "data_normal <- tibble(total=seq(min(crime_total$total), \n",
    "                                max(crime_total$total),0.01), \n",
    "                                density = dnorm(total, pop_mu, pop_sd))"
   ]
  },
  {
   "cell_type": "code",
   "execution_count": 20,
   "id": "98600dbd-5e34-430b-8593-24cce72d0d1f",
   "metadata": {},
   "outputs": [
    {
     "data": {
      "image/png": "[encoded data removed]",
      "text/plain": [
       "plot without title"
      ]
     },
     "metadata": {
      "image/png": {
       "height": 480,
       "width": 480
      }
     },
     "output_type": "display_data"
    }
   ],
   "source": [
    "# Now we build the visualization for the sampling distribution of sample means, comparing it to the normal distribution shape\n",
    "# to help our analysis\n",
    "options(repr.plot.width = 8, repr.plot.height = 8)\n",
    "sampling_dist_500 <- sample_500 %>% \n",
    "    ggplot() + \n",
    "    geom_histogram(aes(x = sample_mean, y = ..density..), binwidth = 2, color=\"white\") +\n",
    "    theme(text = element_text(size = 15))+\n",
    "    xlab(\"Sample Mean\") +\n",
    "    ggtitle(\"Sampling distribution of the sample mean for samples of size 500 for Crime in Vancouver from 2017-2022.\") + \n",
    "    geom_line(data = data_normal, aes(total, density), color = \"blue\", lwd = 2)+\n",
    "    coord_cartesian(xlim=c(0,40))\n",
    "sampling_dist_500"
   ]
  },
  {
   "cell_type": "markdown",
   "id": "77e28b32-78cf-4862-a6f4-6649ec13927f",
   "metadata": {},
   "source": [
    "#### Bootstrapping"
   ]
  },
  {
   "cell_type": "code",
   "execution_count": 22,
   "id": "6c216c98-e804-4d7f-96af-e7d4e36eb268",
   "metadata": {
    "scrolled": true
   },
   "outputs": [
    {
     "data": {
      "text/html": [
       "<table class=\"dataframe\">\n",
       "<caption>A tibble: 6 × 3</caption>\n",
       "<thead>\n",
       "\t<tr><th scope=col>DAY</th><th scope=col>replicate</th><th scope=col>sample_mean</th></tr>\n",
       "\t<tr><th scope=col>&lt;int&gt;</th><th scope=col>&lt;int&gt;</th><th scope=col>&lt;dbl&gt;</th></tr>\n",
       "</thead>\n",
       "<tbody>\n",
       "\t<tr><td>1</td><td>1</td><td>3.187500</td></tr>\n",
       "\t<tr><td>1</td><td>2</td><td>5.764706</td></tr>\n",
       "\t<tr><td>1</td><td>3</td><td>6.214286</td></tr>\n",
       "\t<tr><td>1</td><td>4</td><td>5.000000</td></tr>\n",
       "\t<tr><td>1</td><td>5</td><td>4.692308</td></tr>\n",
       "\t<tr><td>1</td><td>6</td><td>4.421053</td></tr>\n",
       "</tbody>\n",
       "</table>\n"
      ],
      "text/latex": [
       "A tibble: 6 × 3\n",
       "\\begin{tabular}{lll}\n",
       " DAY & replicate & sample\\_mean\\\\\n",
       " <int> & <int> & <dbl>\\\\\n",
       "\\hline\n",
       "\t 1 & 1 & 3.187500\\\\\n",
       "\t 1 & 2 & 5.764706\\\\\n",
       "\t 1 & 3 & 6.214286\\\\\n",
       "\t 1 & 4 & 5.000000\\\\\n",
       "\t 1 & 5 & 4.692308\\\\\n",
       "\t 1 & 6 & 4.421053\\\\\n",
       "\\end{tabular}\n"
      ],
      "text/markdown": [
       "\n",
       "A tibble: 6 × 3\n",
       "\n",
       "| DAY &lt;int&gt; | replicate &lt;int&gt; | sample_mean &lt;dbl&gt; |\n",
       "|---|---|---|\n",
       "| 1 | 1 | 3.187500 |\n",
       "| 1 | 2 | 5.764706 |\n",
       "| 1 | 3 | 6.214286 |\n",
       "| 1 | 4 | 5.000000 |\n",
       "| 1 | 5 | 4.692308 |\n",
       "| 1 | 6 | 4.421053 |\n",
       "\n"
      ],
      "text/plain": [
       "  DAY replicate sample_mean\n",
       "1 1   1         3.187500   \n",
       "2 1   2         5.764706   \n",
       "3 1   3         6.214286   \n",
       "4 1   4         5.000000   \n",
       "5 1   5         4.692308   \n",
       "6 1   6         4.421053   "
      ]
     },
     "metadata": {},
     "output_type": "display_data"
    }
   ],
   "source": [
    "# Now we will make a bootstrapping analysis to compare with our asymptotic analysis to better answer our questions. Firstly we\n",
    "# once again set a seed to ensure reproducibility\n",
    "set.seed(31)\n",
    "\n",
    "# Here we do the Bootstrap with a sample size of 500. But first we will take a sample of our population since we do have the\n",
    "# total population of reported crimes in Vancouver in our dataset\n",
    "one_sample <- crime_total %>%\n",
    "    rep_sample_n(size = 500, reps = 1, replace = FALSE)\n",
    "boot_500 <- one_sample %>%\n",
    "    rep_sample_n(size = 500, reps = 10000, replace = TRUE) %>%\n",
    "    group_by(DAY, replicate) %>% \n",
    "    summarise(sample_mean = mean(total), `.groups` = \"drop\")\n",
    "head(boot_500)\n"
   ]
  },
  {
   "cell_type": "code",
   "execution_count": 23,
   "id": "1d4b5538-73b9-4fa0-9fc1-48968b7e6124",
   "metadata": {},
   "outputs": [
    {
     "data": {
      "image/png": "[encoded data removed]",
      "text/plain": [
       "plot without title"
      ]
     },
     "metadata": {
      "image/png": {
       "height": 480,
       "width": 480
      }
     },
     "output_type": "display_data"
    }
   ],
   "source": [
    "# Here we made the visualization for the bootstrapping of the sample means \n",
    "options(repr.plot.width = 8, repr.plot.height = 8)\n",
    "bootstrap_500 <- boot_500 %>% \n",
    "    ggplot() + \n",
    "    geom_histogram(aes(x = sample_mean, y = ..density..), binwidth = 2, color=\"white\") +\n",
    "    theme(text = element_text(size = 15))+\n",
    "    xlab(\"Bootstrap Mean\") +\n",
    "    ggtitle(\"Bootstrapping of the sample mean for samples of size 500 for Crime in Vancouver from 2017-2022.\") + \n",
    "    geom_line(data = data_normal, aes(total, density), color = \"blue\", lwd = 2)+\n",
    "    coord_cartesian(xlim=c(0,40))\n",
    "bootstrap_500"
   ]
  },
  {
   "cell_type": "markdown",
   "id": "3a3e4ed0-191e-4359-8429-2b8128524539",
   "metadata": {
    "tags": []
   },
   "source": [
    "## Method\n",
    "\n"
   ]
  },
  {
   "cell_type": "markdown",
   "id": "00844364-2b43-4b18-8779-a3e5bf5cb5b9",
   "metadata": {},
   "source": [
    "  In this project, we thoroughly analyzed the average number of crime incidents across neighborhoods, months and years. There exists a noticeable difference in crime rate across the above variables. Specifically, a sharp decrease in crime rate since the beginning of COVID-19 in 2020 was found. But such findings are rudimentary and speculative in nature, we need more robust evidence to confidently conclude the observed difference in crime rate is meaningful. In order to make the project results trustworthy, we decided to carry out the following: \n",
    "\n",
    "1. An independent sample t-test in testing the average amount of crime incidents between year intervals 2017-2019 and 2020-2022 \n",
    " <br> $H_0$ : $\\mu_{2017-2019}$ - $\\mu_{2020-2022}$ = 0;\n",
    " <br> $H_1$ : $\\mu_{2017-2019}$ - $\\mu_{2020-2022}$ > 0;\n",
    "2. Generate a confidence interval from bootstrapping and sampling distributions for the average crime incidents of 2017-2019 and 2020-2022;\n",
    "3. Compare the result obtained from bootstrapping and sampling distribution\n",
    "\n",
    "  In the final report, we expect to first provide robust evidence on whether crime rate has decreased since the start of COVID-19, then obtain a confidence interval for crime rate for the period 2020~2022. Such results would be informative for policy makers for this change in crime rate if later found to be long lasting. In fact, such results could lead to interesting follow up questions such as does the observed long term change in trend in criminal activity related to periods of economic downturn, if so would a reversal in trend be an indicator of economic recovery?\n"
   ]
  },
  {
   "cell_type": "code",
   "execution_count": 92,
   "id": "02df7148-6ba9-4140-9131-22c3adec0010",
   "metadata": {},
   "outputs": [
    {
     "data": {
      "text/html": [
       "<table class=\"dataframe\">\n",
       "<caption>A tibble: 1 × 2</caption>\n",
       "<thead>\n",
       "\t<tr><th scope=col>lower_ci</th><th scope=col>upper_ci</th></tr>\n",
       "\t<tr><th scope=col>&lt;dbl&gt;</th><th scope=col>&lt;dbl&gt;</th></tr>\n",
       "</thead>\n",
       "<tbody>\n",
       "\t<tr><td>1.510691</td><td>2.078547</td></tr>\n",
       "</tbody>\n",
       "</table>\n"
      ],
      "text/latex": [
       "A tibble: 1 × 2\n",
       "\\begin{tabular}{ll}\n",
       " lower\\_ci & upper\\_ci\\\\\n",
       " <dbl> & <dbl>\\\\\n",
       "\\hline\n",
       "\t 1.510691 & 2.078547\\\\\n",
       "\\end{tabular}\n"
      ],
      "text/markdown": [
       "\n",
       "A tibble: 1 × 2\n",
       "\n",
       "| lower_ci &lt;dbl&gt; | upper_ci &lt;dbl&gt; |\n",
       "|---|---|\n",
       "| 1.510691 | 2.078547 |\n",
       "\n"
      ],
      "text/plain": [
       "  lower_ci upper_ci\n",
       "1 1.510691 2.078547"
      ]
     },
     "metadata": {},
     "output_type": "display_data"
    }
   ],
   "source": [
    "# First we set a seed to ensure reproducibility and do an analysis based on a bootstrapping distribution\n",
    "set.seed(32)\n",
    "# Secondly we break the dataset into two different ones, one pre covid years and another one with covid years\n",
    "pre_covid <- crime_yearly_avg %>%\n",
    "filter(YEAR == 2017:2019)\n",
    "during_covid <- crime_yearly_avg %>%\n",
    "filter(YEAR == 2020:2022)\n",
    "\n",
    "# Now we make our Boostrapping distribution for pre covid years with sample size of 500\n",
    "sample_1 <- rep_sample_n(pre_covid, size = 20)\n",
    "bootstrap_pre_covid_dist <- sample_1 %>% \n",
    "rep_sample_n(size = 500, reps = 1000, replace = TRUE) %>%\n",
    "group_by(replicate) %>%\n",
    "summarize(stat = mean(yearly_avg))\n",
    "\n",
    "# And now we get our confidence interval for the bootstrap distribution with a 95% confidence interval\n",
    "pre_covid_boot_ci <- bootstrap_pre_covid_dist %>%\n",
    "get_confidence_interval(level = 0.95, type = \"percentile\")\n",
    "\n",
    "# Here we repeat the process for the covid years. Firstly make our Boostrapping distribution for covid years with sample size of\n",
    "# 500\n",
    "sample_2 <- rep_sample_n(during_covid, size = 20)\n",
    "bootstrap_during_covid_dist <- sample_2 %>% \n",
    "rep_sample_n(size = 500, reps = 1000, replace = TRUE) %>%\n",
    "group_by(replicate) %>%\n",
    "summarize(stat = mean(yearly_avg))\n",
    "\n",
    "# Once again we get the confidence interval of our bootstrap distribution with a 95% confidence interval\n",
    "during_covid_boot_ci <- bootstrap_during_covid_dist %>%\n",
    "get_confidence_interval(level = 0.95, type = \"percentile\")\n",
    "\n",
    "# Now we get the lower and upper values for each year group and subtract them to get the difference between the two. This way\n",
    "# we can try to see if there was any difference in the true mean pre and during covid\n",
    "bootstrap_mean_diff_ci <- tibble(\n",
    "    lower_ci = pre_covid_boot_ci$lower_ci - during_covid_boot_ci$lower_ci,\n",
    "    upper_ci = pre_covid_boot_ci$upper_ci - during_covid_boot_ci$upper_ci)\n",
    "    \n",
    "bootstrap_mean_diff_ci"
   ]
  },
  {
   "cell_type": "markdown",
   "id": "5e7398eb-414a-42da-8eed-3571c7e3f8ab",
   "metadata": {},
   "source": [
    "-From the Bootstrapping distribution confidence interval, we are 95% confident that the true mean difference of crime rate between pre-covid and during-covid will fall in the interval [1.510691, 2.078547]."
   ]
  },
  {
   "cell_type": "code",
   "execution_count": 93,
   "id": "009334f1-ace7-4980-876b-0f35d871f56c",
   "metadata": {},
   "outputs": [
    {
     "data": {
      "text/html": [
       "<table class=\"dataframe\">\n",
       "<caption>A tibble: 1 × 2</caption>\n",
       "<thead>\n",
       "\t<tr><th scope=col>lower_ci</th><th scope=col>upper_ci</th></tr>\n",
       "\t<tr><th scope=col>&lt;dbl&gt;</th><th scope=col>&lt;dbl&gt;</th></tr>\n",
       "</thead>\n",
       "<tbody>\n",
       "\t<tr><td>0.6765738</td><td>1.463917</td></tr>\n",
       "</tbody>\n",
       "</table>\n"
      ],
      "text/latex": [
       "A tibble: 1 × 2\n",
       "\\begin{tabular}{ll}\n",
       " lower\\_ci & upper\\_ci\\\\\n",
       " <dbl> & <dbl>\\\\\n",
       "\\hline\n",
       "\t 0.6765738 & 1.463917\\\\\n",
       "\\end{tabular}\n"
      ],
      "text/markdown": [
       "\n",
       "A tibble: 1 × 2\n",
       "\n",
       "| lower_ci &lt;dbl&gt; | upper_ci &lt;dbl&gt; |\n",
       "|---|---|\n",
       "| 0.6765738 | 1.463917 |\n",
       "\n"
      ],
      "text/plain": [
       "  lower_ci  upper_ci\n",
       "1 0.6765738 1.463917"
      ]
     },
     "metadata": {},
     "output_type": "display_data"
    }
   ],
   "source": [
    "# Now we will do an analysis based on the sampling distribution. First we set a seed to ensure reproducibility\n",
    "set.seed(33)\n",
    "# Secondly we break the dataset into two different ones, one pre covid years and another one with covid years\n",
    "pre_covid <- crime_yearly_avg %>%\n",
    "filter(YEAR == 2017:2019)\n",
    "during_covid <- crime_yearly_avg %>%\n",
    "filter(YEAR == 2020:2022)\n",
    "\n",
    "#Sampling distribution\n",
    "\n",
    "# Now we make our Sampling distribution for pre covid years and get the confidence interval for these years\n",
    "sample_3 <- rep_sample_n(pre_covid, size = 20, reps = 1000)\n",
    "pre_covid_sampling_ci <- sample_3 %>% \n",
    "        group_by(replicate) %>%\n",
    "        summarize(sample_mean = mean(yearly_avg)) %>%\n",
    "        get_ci(level = 0.95, type = \"percentile\")\n",
    "\n",
    "# Here we make our Sampling distribution for covid years and get the confidence interval for these years\n",
    "sample_4 <- rep_sample_n(during_covid, size = 20, reps = 1000)\n",
    "during_covid_sampling_ci <- sample_4 %>%\n",
    "        summarize(sample_mean = mean(yearly_avg)) %>%\n",
    "        get_ci(level = 0.95, type = \"percentile\")\n",
    "\n",
    "# Now we get the lower and upper values for each year group and subtract them to get the difference between the two. This way\n",
    "# we can try to see if there was any difference in the true mean pre and during covid\n",
    "sampling_mean_diff_ci <- tibble(\n",
    "    lower_ci = pre_covid_sampling_ci$lower_ci - during_covid_sampling_ci$lower_ci,\n",
    "    upper_ci = pre_covid_sampling_ci$upper_ci - during_covid_sampling_ci$upper_ci)\n",
    "    \n",
    "sampling_mean_diff_ci"
   ]
  },
  {
   "cell_type": "markdown",
   "id": "5aa6374a-95fa-4dd3-b994-90b9a0aa2ad7",
   "metadata": {},
   "source": [
    "-From the Sampling distribution confidence interval, we are 95% confident that the true mean difference of crime rate between pre-covid and during-covid will fall in the interval [0.6765738, 1.463917]."
   ]
  },
  {
   "cell_type": "markdown",
   "id": "120770c3-e2f7-4ff5-908d-c812fbef82fb",
   "metadata": {},
   "source": [
    "## Reference\n",
    "- Abrams, D. S. (2021). COVID and crime: An early empirical look. Journal of Public Economics, Volume 194(2021), 104344. ScienceDirect. https://doi.org/10.1016/j.jpubeco.2020.104344 \n",
    "\n",
    "- Ashby, M. P. J. (2020). Initial evidence on the relationship between the coronavirus pandemic and crime in the United States. Crime Science, 9(2020), 6. https://doi.org/10.1186/s40163-020-00117-6 \n",
    "\n",
    "- Vancouver Police Department. (2022, February 15). GeoDASH Crime Data. Vancouver Police Department - GeoDASH. Retrieved March 5, 2022, from https://vpd.ca/crime-statistics/\n"
   ]
  },
  {
   "cell_type": "code",
   "execution_count": null,
   "id": "6a01e6fd-f137-4f7c-a8af-dc032a9316c0",
   "metadata": {},
   "outputs": [],
   "source": []
  }
 ],
 "metadata": {
  "kernelspec": {
   "display_name": "R",
   "language": "R",
   "name": "ir"
  },
  "language_info": {
   "codemirror_mode": "r",
   "file_extension": ".r",
   "mimetype": "text/x-r-source",
   "name": "R",
   "pygments_lexer": "r",
   "version": "4.0.3"
  }
 },
 "nbformat": 4,
 "nbformat_minor": 5
}
